{
 "cells": [
  {
   "cell_type": "code",
   "execution_count": 3,
   "metadata": {},
   "outputs": [],
   "source": [
    "from Doodler import dump_doodle_cases, gen_standard_cases\n",
    "\n",
    "cases = gen_standard_cases(count=500,flat=True, show=False)\n",
    "\n",
    "dump_doodle_cases((cases), \"doodle_cases.pkl\")"
   ]
  },
  {
   "cell_type": "code",
   "execution_count": 4,
   "metadata": {},
   "outputs": [],
   "source": [
    "from Doodler import dump_doodle_cases, gen_standard_cases\n",
    "\n",
    "cases = gen_standard_cases(count=100,flat=True, show=False)\n",
    "\n",
    "dump_doodle_cases((cases), \"small_doodle_cases.pkl\")"
   ]
  },
  {
   "cell_type": "code",
   "execution_count": 2,
   "metadata": {},
   "outputs": [],
   "source": [
    "from Doodler import dump_doodle_cases, gen_standard_cases\n",
    "\n",
    "cases = gen_standard_cases(count=3000,flat=True, show=False)\n",
    "\n",
    "dump_doodle_cases((cases), \"big_doodle_cases.pkl\")"
   ]
  }
 ],
 "metadata": {
  "kernelspec": {
   "display_name": "Python 3",
   "language": "python",
   "name": "python3"
  },
  "language_info": {
   "codemirror_mode": {
    "name": "ipython",
    "version": 3
   },
   "file_extension": ".py",
   "mimetype": "text/x-python",
   "name": "python",
   "nbconvert_exporter": "python",
   "pygments_lexer": "ipython3",
   "version": "3.10.6"
  }
 },
 "nbformat": 4,
 "nbformat_minor": 2
}
