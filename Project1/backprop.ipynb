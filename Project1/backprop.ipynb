{
 "cells": [
  {
   "cell_type": "code",
   "execution_count": 77,
   "metadata": {},
   "outputs": [],
   "source": [
    "import numpy as np"
   ]
  },
  {
   "cell_type": "code",
   "execution_count": 78,
   "metadata": {},
   "outputs": [],
   "source": [
    "class Layer:\n",
    "    def __init__(self, num_inputs,num_neurons, activation, learning_rate):\n",
    "        self.num_neurons = num_neurons\n",
    "        self.activation = activation\n",
    "        self.weights = np.random.randn(num_inputs, num_neurons)\n",
    "        self.biases = np.zeros((1, self.num_neurons))\n",
    "        self.learning_rate = learning_rate\n",
    "\n",
    "    def forward(self, inputs):\n",
    "        self.inputs = inputs\n",
    "        self.output = self.activation(np.dot(inputs, self.weights) + self.biases)\n",
    "        return self.output\n",
    "\n",
    "    def backward(self, d_output):\n",
    "        d_inputs = np.dot(d_output, self.weights.T)\n",
    "        d_weights = np.dot(self.inputs.T, d_output)\n",
    "        d_biases = np.sum(d_output, axis=0)\n",
    "        return d_inputs, d_weights, d_biases\n",
    "    \n",
    "    def update_weights(self, d_weights, d_biases):\n",
    "        self.weights -= d_weights * self.learning_rate\n",
    "        self.biases -= d_biases * self.learning_rate\n"
   ]
  },
  {
   "cell_type": "code",
   "execution_count": 79,
   "metadata": {},
   "outputs": [],
   "source": [
    "class Network:\n",
    "    def __init__(self, output_function):\n",
    "        self.layers = []\n",
    "        self.output_function = output_function\n",
    "\n",
    "    def add_layer(self, layer):\n",
    "        self.layers.append(layer)\n",
    "\n",
    "    def forward(self, inputs):\n",
    "        output = inputs\n",
    "        for layer in self.layers:\n",
    "            output = layer.forward(output)\n",
    "        return self.output_function.forward(output)\n",
    "    \n",
    "    def backward(self, d_output):\n",
    "        d_inputs = self.output_function.backward(d_output)\n",
    "        for layer in reversed(self.layers):\n",
    "            d_inputs, d_weights, d_biases = layer.backward(d_inputs)\n",
    "            layer.update_weights(d_weights, d_biases)"
   ]
  },
  {
   "cell_type": "code",
   "execution_count": 80,
   "metadata": {},
   "outputs": [],
   "source": [
    "# logsumexp function to avoid overflow/underflow\n",
    "def logsumexp(x):\n",
    "    offset = np.max(x, axis=0)\n",
    "    return offset + np.log(np.sum(np.exp(x - offset), axis=0))"
   ]
  },
  {
   "cell_type": "code",
   "execution_count": 81,
   "metadata": {},
   "outputs": [],
   "source": [
    "# log of sigmoid is easier to define apply the logsumexp to\n",
    "def logsigma(x):\n",
    "    if isinstance(x, np.ndarray):\n",
    "        return -logsumexp(np.array([np.zeros(x.shape), -x]))\n",
    "    return -logsumexp(np.array([0,-x]))\n",
    "\n",
    "# activation functions\n",
    "def sigmoid(x):\n",
    "    return np.exp(logsigma(x))\n",
    "\n",
    "def relu(x):\n",
    "    return np.maximum(0, x)\n",
    "\n",
    "def tanh(x):\n",
    "    return np.tanh(x)\n",
    "\n",
    "# output_functions\n",
    "class Softmax():\n",
    "    def forward(self, x):\n",
    "        return np.exp(x) / np.sum(np.exp(x), axis=0)\n",
    "\n",
    "    def backward(self, d_output):\n",
    "        return d_output\n"
   ]
  },
  {
   "cell_type": "code",
   "execution_count": 82,
   "metadata": {},
   "outputs": [],
   "source": [
    "def load_iris():\n",
    "    from sklearn.datasets import load_iris\n",
    "    from sklearn.preprocessing import OneHotEncoder\n",
    "    from sklearn.model_selection import train_test_split\n",
    "\n",
    "    # Load the iris dataset\n",
    "    iris = load_iris()\n",
    "    X = iris.data\n",
    "    y = iris.target\n",
    "\n",
    "    # Split the dataset into training and testing sets\n",
    "    X_train, X_test, y_train, y_test = train_test_split(X, y, test_size=0.2, random_state=42)\n",
    "\n",
    "    #split the train set into train and validation sets\n",
    "    X_train, X_val, y_train, y_val = train_test_split(X_train, y_train, test_size=0.25, random_state=42)\n",
    "\n",
    "    # One-hot encode the target variable\n",
    "    encoder = OneHotEncoder()\n",
    "    y_train_encoded = encoder.fit_transform(y_train.reshape(-1, 1))\n",
    "    return X_train, X_val, X_test, y_train, y_val, y_test, y_train_encoded"
   ]
  },
  {
   "cell_type": "code",
   "execution_count": 86,
   "metadata": {},
   "outputs": [],
   "source": [
    "def initialize_network():\n",
    "    network = Network(output_function=Softmax())\n",
    "    network.add_layer(Layer(num_inputs=4, num_neurons=3, activation=tanh,learning_rate=0.01))\n",
    "    return network"
   ]
  },
  {
   "cell_type": "code",
   "execution_count": 87,
   "metadata": {},
   "outputs": [],
   "source": [
    "def train_model(batch_size:int, num_epochs:int,dataset,network:Network, error_function):\n",
    "    X_train, X_val, X_test, y_train, y_val, y_test, y_train_encoded = dataset()\n",
    "\n",
    "    training_errors = []\n",
    "    validation_errors = []\n",
    "\n",
    "    num_samples = X_train.shape[0]\n",
    "\n",
    "    for epoch in range(num_epochs):\n",
    "        # Shuffle the training data\n",
    "        indices = np.random.permutation(num_samples)\n",
    "        X_train_shuffled = X_train[indices]\n",
    "        y_train_shuffled = y_train_encoded[indices]\n",
    "\n",
    "        # Split the shuffled data into mini-batches\n",
    "        num_batches = num_samples // batch_size\n",
    "        for batch in range(num_batches):\n",
    "            start = batch * batch_size\n",
    "            end = (batch + 1) * batch_size\n",
    "\n",
    "            # Forward pass\n",
    "            output = network.forward(X_train_shuffled[start:end])\n",
    "\n",
    "            # Backward pass\n",
    "            d_output = output - y_train_shuffled[start:end]\n",
    "            network.backward(d_output)\n",
    "\n",
    "        # training accuracy\n",
    "        output = network.forward(X_train)\n",
    "        predictions = np.argmax(output, axis=1)\n",
    "        training_errors.append(error_function(y_train, predictions))\n",
    "        \n",
    "        # validation accuracy\n",
    "        output = network.forward(X_val)\n",
    "        predictions = np.argmax(output, axis=1)\n",
    "        validation_errors.append(error_function(y_val, predictions))\n",
    "    # test accuracy\n",
    "    output = network.forward(X_test)\n",
    "    predictions = np.argmax(output, axis=1)\n",
    "    test_error = error_function(y_test, predictions)\n",
    "    return test_error, training_errors, validation_errors"
   ]
  },
  {
   "cell_type": "code",
   "execution_count": 88,
   "metadata": {},
   "outputs": [],
   "source": [
    "test_error, training_errors, validation_errors = train_model(\n",
    "    batch_size=10,\n",
    "    num_epochs=100,\n",
    "    dataset=load_iris,\n",
    "    network=initialize_network(),\n",
    "    error_function=lambda y_true, y_pred: np.mean(y_true != y_pred)\n",
    ")"
   ]
  },
  {
   "cell_type": "code",
   "execution_count": null,
   "metadata": {},
   "outputs": [
    {
     "data": {
      "image/png": "[encoded data removed]",
      "text/plain": [
       "<Figure size 640x480 with 1 Axes>"
      ]
     },
     "metadata": {},
     "output_type": "display_data"
    }
   ],
   "source": [
    "import matplotlib.pyplot as plt\n",
    "\n",
    "# Plot the accuracy\n",
    "plt.plot(training_errors)\n",
    "plt.plot(validation_errors)\n",
    "plt.xlabel('Epoch')\n",
    "plt.ylabel('Error')\n",
    "\n",
    "plt.legend(['Training', 'Validation'])\n",
    "plt.show()"
   ]
  }
 ],
 "metadata": {
  "kernelspec": {
   "display_name": "Python 3",
   "language": "python",
   "name": "python3"
  },
  "language_info": {
   "codemirror_mode": {
    "name": "ipython",
    "version": 3
   },
   "file_extension": ".py",
   "mimetype": "text/x-python",
   "name": "python",
   "nbconvert_exporter": "python",
   "pygments_lexer": "ipython3",
   "version": "3.10.6"
  }
 },
 "nbformat": 4,
 "nbformat_minor": 2
}
