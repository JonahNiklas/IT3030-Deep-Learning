{
 "cells": [
  {
   "cell_type": "code",
   "execution_count": 1,
   "metadata": {},
   "outputs": [],
   "source": [
    "import numpy as np"
   ]
  },
  {
   "cell_type": "code",
   "execution_count": 8,
   "metadata": {},
   "outputs": [],
   "source": [
    "class Layer:\n",
    "    def __init__(self, num_inputs,num_neurons, activation):\n",
    "        self.num_neurons = num_neurons\n",
    "        self.activation = activation\n",
    "        self.weights = np.random.randn(num_inputs, num_neurons)\n",
    "        self.biases = np.zeros((1, self.num_neurons))\n",
    "\n",
    "    def forward(self, inputs):\n",
    "        self.inputs = inputs\n",
    "        self.output = self.activation(np.dot(inputs, self.weights) + self.biases)\n",
    "        return self.output\n",
    "\n",
    "    def backward(self, d_output):\n",
    "        d_inputs = np.dot(d_output, self.weights.T)\n",
    "        d_weights = np.dot(self.inputs.T, d_output)\n",
    "        d_biases = np.sum(d_output, axis=0)\n",
    "        return d_inputs, d_weights, d_biases\n"
   ]
  },
  {
   "cell_type": "code",
   "execution_count": 9,
   "metadata": {},
   "outputs": [],
   "source": [
    "class Network:\n",
    "    def __init__(self, output_layer):\n",
    "        self.layers = []\n",
    "        self.output_layer = output_layer\n",
    "\n",
    "    def add_layer(self, layer):\n",
    "        self.layers.append(layer)\n",
    "\n",
    "    def forward(self, inputs):\n",
    "        output = inputs\n",
    "        for layer in self.layers:\n",
    "            output = layer.forward(output)\n",
    "        return self.output_layer(output)\n",
    "    \n",
    "    def backward(self, d_output):\n",
    "        d_inputs = d_output\n",
    "        for layer in reversed(self.layers):\n",
    "            d_inputs, d_weights, d_biases = layer.backward(d_inputs)\n",
    "            layer.weights -= d_weights\n",
    "            layer.biases -= d_biases"
   ]
  },
  {
   "cell_type": "code",
   "execution_count": 10,
   "metadata": {},
   "outputs": [],
   "source": [
    "def logsumexp(x):\n",
    "    offset = np.max(x, axis=0)\n",
    "    return offset + np.log(np.sum(np.exp(x - offset), axis=0))"
   ]
  },
  {
   "cell_type": "code",
   "execution_count": 11,
   "metadata": {},
   "outputs": [],
   "source": [
    "def logsigma(x):\n",
    "    if isinstance(x, np.ndarray):\n",
    "        return -logsumexp(np.array([np.zeros(x.shape), -x]))\n",
    "    return -logsumexp(np.array([0,-x]))\n",
    "\n",
    "\n",
    "def sigmoid(x):\n",
    "    return np.exp(logsigma(x))"
   ]
  },
  {
   "cell_type": "code",
   "execution_count": 12,
   "metadata": {},
   "outputs": [],
   "source": [
    "def relu(x):\n",
    "    return np.maximum(0, x)\n",
    "\n",
    "def tanh(x):\n",
    "    return np.tanh(x)"
   ]
  },
  {
   "cell_type": "code",
   "execution_count": 13,
   "metadata": {},
   "outputs": [
    {
     "name": "stdout",
     "output_type": "stream",
     "text": [
      "Test accuracy: 0.3333333333333333\n"
     ]
    }
   ],
   "source": [
    "from sklearn.datasets import load_iris\n",
    "from sklearn.preprocessing import OneHotEncoder\n",
    "from sklearn.model_selection import train_test_split\n",
    "from sklearn.metrics import accuracy_score\n",
    "import numpy as np\n",
    "\n",
    "# Load the iris dataset\n",
    "iris = load_iris()\n",
    "X = iris.data\n",
    "y = iris.target\n",
    "\n",
    "# Split the dataset into training and testing sets\n",
    "X_train, X_test, y_train, y_test = train_test_split(X, y, test_size=0.2, random_state=42)\n",
    "\n",
    "# One-hot encode the target variable\n",
    "encoder = OneHotEncoder()\n",
    "y_train_encoded = encoder.fit_transform(y_train.reshape(-1, 1))\n",
    "y_test_encoded = encoder.transform(y_test.reshape(-1, 1))\n",
    "\n",
    "# Define the softmax activation function\n",
    "def softmax(x):\n",
    "    exps = np.exp(x - np.max(x, axis=1, keepdims=True))\n",
    "    return exps / np.sum(exps, axis=1, keepdims=True)\n",
    "\n",
    "# Define the network architecture\n",
    "network = Network(output_layer=softmax)\n",
    "network.add_layer(Layer(num_inputs=4, num_neurons=10, activation=relu))\n",
    "network.add_layer(Layer(num_inputs=10, num_neurons=10, activation=relu))\n",
    "network.add_layer(Layer(num_inputs=10, num_neurons=3, activation=tanh))\n",
    "\n",
    "accuracies = []\n",
    "# Train the network\n",
    "for epoch in range(1000):\n",
    "    # Forward pass\n",
    "    output = network.forward(X_train)\n",
    "    # Backward pass\n",
    "    d_output = output - y_train_encoded\n",
    "    network.backward(d_output)\n",
    "    \n",
    "    # Evaluate the network\n",
    "    predictions = np.argmax(output, axis=1)\n",
    "    accuracy = accuracy_score(y_train, predictions)\n",
    "    accuracies.append(accuracy) \n",
    "\n",
    "output = network.forward(X_test)\n",
    "predictions = np.argmax(output, axis=1)\n",
    "accuracy = accuracy_score(y_test, predictions)\n",
    "print(\"Test accuracy:\", accuracy)\n"
   ]
  },
  {
   "cell_type": "code",
   "execution_count": 14,
   "metadata": {},
   "outputs": [
    {
     "data": {
      "image/png": "[encoded data removed]",
      "text/plain": [
       "<Figure size 640x480 with 1 Axes>"
      ]
     },
     "metadata": {},
     "output_type": "display_data"
    }
   ],
   "source": [
    "import matplotlib.pyplot as plt\n",
    "\n",
    "# Plot the accuracy\n",
    "plt.plot(accuracies)\n",
    "plt.xlabel('Epoch')\n",
    "plt.ylabel('Accuracy')\n",
    "\n",
    "plt.title('Training accuracy over Epochs')\n",
    "plt.show()"
   ]
  }
 ],
 "metadata": {
  "kernelspec": {
   "display_name": "Python 3",
   "language": "python",
   "name": "python3"
  },
  "language_info": {
   "codemirror_mode": {
    "name": "ipython",
    "version": 3
   },
   "file_extension": ".py",
   "mimetype": "text/x-python",
   "name": "python",
   "nbconvert_exporter": "python",
   "pygments_lexer": "ipython3",
   "version": "3.10.6"
  }
 },
 "nbformat": 4,
 "nbformat_minor": 2
}
