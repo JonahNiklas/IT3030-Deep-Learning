{
 "cells": [
  {
   "cell_type": "code",
   "execution_count": 1,
   "metadata": {},
   "outputs": [],
   "source": [
    "import sys\n",
    "sys.path.append('c:/Users/Jonah/Documents/git/IT3030-Deep-Learning/Project1/core')"
   ]
  },
  {
   "cell_type": "code",
   "execution_count": 2,
   "metadata": {},
   "outputs": [],
   "source": [
    "from Doodler import gen_standard_cases\n",
    "from number_config_1 import *\n",
    "from setup import *\n",
    "\n",
    "rows=50\n",
    "cols=50\n",
    "input_dim=rows*cols\n",
    "assert LAYER_CONFIG[\"input\"] == input_dim\n",
    "data, target, labels, img_dim, flat = gen_standard_cases(count=GENERATION[\"cases\"],flat=True,rows=rows,cols=cols, show=False)"
   ]
  },
  {
   "cell_type": "code",
   "execution_count": 3,
   "metadata": {},
   "outputs": [],
   "source": [
    "def prepare_data():\n",
    "    from sklearn.model_selection import train_test_split\n",
    "\n",
    "    X_train, X_test, y_train_encoded, y_test_encoded, y_train, y_test = train_test_split(data, target,labels, test_size=0.2, random_state=42)\n",
    "\n",
    "    X_train, X_val, y_train, y_val = train_test_split(X_train, y_train, test_size=0.2, random_state=42)\n",
    "\n",
    "    return X_train, X_val, X_test, y_train, y_val, y_test, y_train_encoded"
   ]
  },
  {
   "cell_type": "code",
   "execution_count": 4,
   "metadata": {},
   "outputs": [
    {
     "name": "stdout",
     "output_type": "stream",
     "text": [
      "Added layer with 20 neurons, 2500 inputs, relu activation function and 0.01 learning rate\n",
      "Added layer with 40 neurons, 20 inputs, relu activation function and 0.01 learning rate\n",
      "Added layer with 9 neurons, 40 inputs, sigmoid activation function and 0.01 learning rate\n"
     ]
    }
   ],
   "source": [
    "network = Network(output_function=Softmax() if LAYER_CONFIG[\"output_function\"] == 'softmax' else Linear())\n",
    "input = LAYER_CONFIG[\"input\"]\n",
    "for layer in LAYER_CONFIG[\"layers\"]:\n",
    "    learning_rate = layer[\"lrate\"] if layer[\"lrate\"] else GLOBAL_CONFIG[\"lrate\"]\n",
    "    print(\"Added layer with {} neurons, {} inputs, {} activation function and {} learning rate\".format(layer[\"size\"],input,layer[\"activation\"],learning_rate))\n",
    "    network.add_layer(Layer(num_inputs=input, num_neurons=layer[\"size\"], activation=ACTIVATION_FUNCTIONS[layer[\"activation\"]],learning_rate=learning_rate))\n",
    "    input = layer[\"size\"]"
   ]
  },
  {
   "cell_type": "code",
   "execution_count": 5,
   "metadata": {},
   "outputs": [
    {
     "name": "stdout",
     "output_type": "stream",
     "text": [
      "Test error:  315.0\n"
     ]
    }
   ],
   "source": [
    "test_error, training_errors, validation_errors = train_model(\n",
    "    dataset=prepare_data,\n",
    "    network=network,\n",
    "    num_epochs=GLOBAL_CONFIG[\"epochs\"],\n",
    "    batch_size=GLOBAL_CONFIG[\"batch_size\"],\n",
    "    error_function=ERROR_FUNCTIONS[GLOBAL_CONFIG[\"loss\"]],\n",
    "    # error_function=lambda y_true, y_pred: np.mean(y_true != y_pred)\n",
    ")\n",
    "\n",
    "print(\"Test error: \", test_error)"
   ]
  },
  {
   "cell_type": "code",
   "execution_count": 6,
   "metadata": {},
   "outputs": [
    {
     "data": {
      "image/png": "[encoded data removed]",
      "text/plain": [
       "<Figure size 640x480 with 1 Axes>"
      ]
     },
     "metadata": {},
     "output_type": "display_data"
    }
   ],
   "source": [
    "import matplotlib.pyplot as plt\n",
    "# Plot the accuracy\n",
    "plt.plot(training_errors)\n",
    "plt.plot(validation_errors)\n",
    "plt.xlabel('Epoch')\n",
    "plt.ylabel('Error')\n",
    "\n",
    "plt.legend(['Training', 'Validation'])\n",
    "plt.show()"
   ]
  }
 ],
 "metadata": {
  "kernelspec": {
   "display_name": "Python 3",
   "language": "python",
   "name": "python3"
  },
  "language_info": {
   "codemirror_mode": {
    "name": "ipython",
    "version": 3
   },
   "file_extension": ".py",
   "mimetype": "text/x-python",
   "name": "python",
   "nbconvert_exporter": "python",
   "pygments_lexer": "ipython3",
   "version": "3.10.6"
  }
 },
 "nbformat": 4,
 "nbformat_minor": 2
}
